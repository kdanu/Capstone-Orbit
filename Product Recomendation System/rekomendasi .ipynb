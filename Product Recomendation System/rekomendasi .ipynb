{
  "nbformat": 4,
  "nbformat_minor": 0,
  "metadata": {
    "colab": {
      "name": "rekomendasi.ipynb",
      "provenance": []
    },
    "kernelspec": {
      "name": "python3",
      "display_name": "Python 3"
    },
    "language_info": {
      "name": "python"
    }
  },
  "cells": [
    {
      "cell_type": "code",
      "execution_count": null,
      "metadata": {
        "id": "DZrGMJcroK0x"
      },
      "outputs": [],
      "source": [
        "import pandas as pd\n",
        "import numpy as np\n",
        "from sklearn.feature_extraction.text import CountVectorizer\n",
        "from sklearn.metrics.pairwise import cosine_similarity"
      ]
    },
    {
      "cell_type": "code",
      "source": [
        "sheet_id= \"1kz81B5AQEpaMKPI8UVdBKxzjlLc7huKPUHVGeoaAMW8\"\n",
        "sheet_name= \"datasetsmartplant\"\n",
        "bahan_data1= f\"https://docs.google.com/spreadsheets/d/1kz81B5AQEpaMKPI8UVdBKxzjlLc7huKPUHVGeoaAMW8/gviz/tq?tqx=out:csv&sheet=sheet_name\"\n",
        "bahan_data= pd.read_csv(bahan_data1)\n",
        "#bahan_data= pd.read_csv(\"/content/drive/MyDrive/menu  - Sheet1.csv\")"
      ],
      "metadata": {
        "id": "sQIQ9bZUnE99"
      },
      "execution_count": null,
      "outputs": []
    },
    {
      "cell_type": "code",
      "source": [
        "bahan_data.shape\n",
        "bahan_data.head()"
      ],
      "metadata": {
        "colab": {
          "base_uri": "https://localhost:8080/",
          "height": 206
        },
        "id": "C_e73DL3nZet",
        "outputId": "d70a1407-5163-4d26-a09d-bfcf3cfb59a4"
      },
      "execution_count": null,
      "outputs": [
        {
          "output_type": "execute_result",
          "data": {
            "text/html": [
              "\n",
              "  <div id=\"df-771c2b57-7196-42b9-af00-d620470e86c0\">\n",
              "    <div class=\"colab-df-container\">\n",
              "      <div>\n",
              "<style scoped>\n",
              "    .dataframe tbody tr th:only-of-type {\n",
              "        vertical-align: middle;\n",
              "    }\n",
              "\n",
              "    .dataframe tbody tr th {\n",
              "        vertical-align: top;\n",
              "    }\n",
              "\n",
              "    .dataframe thead th {\n",
              "        text-align: right;\n",
              "    }\n",
              "</style>\n",
              "<table border=\"1\" class=\"dataframe\">\n",
              "  <thead>\n",
              "    <tr style=\"text-align: right;\">\n",
              "      <th></th>\n",
              "      <th>id</th>\n",
              "      <th>bahan</th>\n",
              "      <th>makanan</th>\n",
              "    </tr>\n",
              "  </thead>\n",
              "  <tbody>\n",
              "    <tr>\n",
              "      <th>0</th>\n",
              "      <td>1</td>\n",
              "      <td>bawang merah</td>\n",
              "      <td>soto betawi|nasi goreng|bakso|sop|sayur lodeh|...</td>\n",
              "    </tr>\n",
              "    <tr>\n",
              "      <th>1</th>\n",
              "      <td>2</td>\n",
              "      <td>bawang putih</td>\n",
              "      <td>soto betawi|nasi goreng|bakso|sop|sayur lodeh|...</td>\n",
              "    </tr>\n",
              "    <tr>\n",
              "      <th>2</th>\n",
              "      <td>3</td>\n",
              "      <td>tomat</td>\n",
              "      <td>soto betawi|bakso|sop|saus tomat|tongseng ayam|</td>\n",
              "    </tr>\n",
              "    <tr>\n",
              "      <th>3</th>\n",
              "      <td>4</td>\n",
              "      <td>timun</td>\n",
              "      <td>lalapan|gado gado|karedok|lotek|ketoprak|asina...</td>\n",
              "    </tr>\n",
              "    <tr>\n",
              "      <th>4</th>\n",
              "      <td>5</td>\n",
              "      <td>cabe merah</td>\n",
              "      <td>soto betawi|nasi goreng|bakso|sop|sayur lodeh|...</td>\n",
              "    </tr>\n",
              "  </tbody>\n",
              "</table>\n",
              "</div>\n",
              "      <button class=\"colab-df-convert\" onclick=\"convertToInteractive('df-771c2b57-7196-42b9-af00-d620470e86c0')\"\n",
              "              title=\"Convert this dataframe to an interactive table.\"\n",
              "              style=\"display:none;\">\n",
              "        \n",
              "  <svg xmlns=\"http://www.w3.org/2000/svg\" height=\"24px\"viewBox=\"0 0 24 24\"\n",
              "       width=\"24px\">\n",
              "    <path d=\"M0 0h24v24H0V0z\" fill=\"none\"/>\n",
              "    <path d=\"M18.56 5.44l.94 2.06.94-2.06 2.06-.94-2.06-.94-.94-2.06-.94 2.06-2.06.94zm-11 1L8.5 8.5l.94-2.06 2.06-.94-2.06-.94L8.5 2.5l-.94 2.06-2.06.94zm10 10l.94 2.06.94-2.06 2.06-.94-2.06-.94-.94-2.06-.94 2.06-2.06.94z\"/><path d=\"M17.41 7.96l-1.37-1.37c-.4-.4-.92-.59-1.43-.59-.52 0-1.04.2-1.43.59L10.3 9.45l-7.72 7.72c-.78.78-.78 2.05 0 2.83L4 21.41c.39.39.9.59 1.41.59.51 0 1.02-.2 1.41-.59l7.78-7.78 2.81-2.81c.8-.78.8-2.07 0-2.86zM5.41 20L4 18.59l7.72-7.72 1.47 1.35L5.41 20z\"/>\n",
              "  </svg>\n",
              "      </button>\n",
              "      \n",
              "  <style>\n",
              "    .colab-df-container {\n",
              "      display:flex;\n",
              "      flex-wrap:wrap;\n",
              "      gap: 12px;\n",
              "    }\n",
              "\n",
              "    .colab-df-convert {\n",
              "      background-color: #E8F0FE;\n",
              "      border: none;\n",
              "      border-radius: 50%;\n",
              "      cursor: pointer;\n",
              "      display: none;\n",
              "      fill: #1967D2;\n",
              "      height: 32px;\n",
              "      padding: 0 0 0 0;\n",
              "      width: 32px;\n",
              "    }\n",
              "\n",
              "    .colab-df-convert:hover {\n",
              "      background-color: #E2EBFA;\n",
              "      box-shadow: 0px 1px 2px rgba(60, 64, 67, 0.3), 0px 1px 3px 1px rgba(60, 64, 67, 0.15);\n",
              "      fill: #174EA6;\n",
              "    }\n",
              "\n",
              "    [theme=dark] .colab-df-convert {\n",
              "      background-color: #3B4455;\n",
              "      fill: #D2E3FC;\n",
              "    }\n",
              "\n",
              "    [theme=dark] .colab-df-convert:hover {\n",
              "      background-color: #434B5C;\n",
              "      box-shadow: 0px 1px 3px 1px rgba(0, 0, 0, 0.15);\n",
              "      filter: drop-shadow(0px 1px 2px rgba(0, 0, 0, 0.3));\n",
              "      fill: #FFFFFF;\n",
              "    }\n",
              "  </style>\n",
              "\n",
              "      <script>\n",
              "        const buttonEl =\n",
              "          document.querySelector('#df-771c2b57-7196-42b9-af00-d620470e86c0 button.colab-df-convert');\n",
              "        buttonEl.style.display =\n",
              "          google.colab.kernel.accessAllowed ? 'block' : 'none';\n",
              "\n",
              "        async function convertToInteractive(key) {\n",
              "          const element = document.querySelector('#df-771c2b57-7196-42b9-af00-d620470e86c0');\n",
              "          const dataTable =\n",
              "            await google.colab.kernel.invokeFunction('convertToInteractive',\n",
              "                                                     [key], {});\n",
              "          if (!dataTable) return;\n",
              "\n",
              "          const docLinkHtml = 'Like what you see? Visit the ' +\n",
              "            '<a target=\"_blank\" href=https://colab.research.google.com/notebooks/data_table.ipynb>data table notebook</a>'\n",
              "            + ' to learn more about interactive tables.';\n",
              "          element.innerHTML = '';\n",
              "          dataTable['output_type'] = 'display_data';\n",
              "          await google.colab.output.renderOutput(dataTable, element);\n",
              "          const docLink = document.createElement('div');\n",
              "          docLink.innerHTML = docLinkHtml;\n",
              "          element.appendChild(docLink);\n",
              "        }\n",
              "      </script>\n",
              "    </div>\n",
              "  </div>\n",
              "  "
            ],
            "text/plain": [
              "   id         bahan                                            makanan\n",
              "0   1  bawang merah  soto betawi|nasi goreng|bakso|sop|sayur lodeh|...\n",
              "1   2  bawang putih  soto betawi|nasi goreng|bakso|sop|sayur lodeh|...\n",
              "2   3         tomat    soto betawi|bakso|sop|saus tomat|tongseng ayam|\n",
              "3   4         timun  lalapan|gado gado|karedok|lotek|ketoprak|asina...\n",
              "4   5    cabe merah  soto betawi|nasi goreng|bakso|sop|sayur lodeh|..."
            ]
          },
          "metadata": {},
          "execution_count": 3
        }
      ]
    },
    {
      "cell_type": "code",
      "source": [
        "bahan_data.info()"
      ],
      "metadata": {
        "colab": {
          "base_uri": "https://localhost:8080/"
        },
        "id": "Nu1C1tZjoWPw",
        "outputId": "04087917-cf3b-4143-b19d-8dde94df087c"
      },
      "execution_count": null,
      "outputs": [
        {
          "output_type": "stream",
          "name": "stdout",
          "text": [
            "<class 'pandas.core.frame.DataFrame'>\n",
            "RangeIndex: 25 entries, 0 to 24\n",
            "Data columns (total 3 columns):\n",
            " #   Column   Non-Null Count  Dtype \n",
            "---  ------   --------------  ----- \n",
            " 0   id       25 non-null     int64 \n",
            " 1   bahan    24 non-null     object\n",
            " 2   makanan  24 non-null     object\n",
            "dtypes: int64(1), object(2)\n",
            "memory usage: 728.0+ bytes\n"
          ]
        }
      ]
    },
    {
      "cell_type": "code",
      "source": [
        "bahan_data.isna().sum()"
      ],
      "metadata": {
        "colab": {
          "base_uri": "https://localhost:8080/"
        },
        "id": "kUyU0hrroavm",
        "outputId": "b7f944c3-e65d-4448-89d3-d93499fa3523"
      },
      "execution_count": null,
      "outputs": [
        {
          "output_type": "execute_result",
          "data": {
            "text/plain": [
              "id         0\n",
              "bahan      1\n",
              "makanan    1\n",
              "dtype: int64"
            ]
          },
          "metadata": {},
          "execution_count": 6
        }
      ]
    },
    {
      "cell_type": "code",
      "source": [
        "bahan_data.dtypes"
      ],
      "metadata": {
        "colab": {
          "base_uri": "https://localhost:8080/"
        },
        "id": "KOjb4dluofZm",
        "outputId": "cfc6173b-a1dd-4533-b4f5-24d6314a3245"
      },
      "execution_count": null,
      "outputs": [
        {
          "output_type": "execute_result",
          "data": {
            "text/plain": [
              "id          int64\n",
              "bahan      object\n",
              "makanan    object\n",
              "dtype: object"
            ]
          },
          "metadata": {},
          "execution_count": 7
        }
      ]
    },
    {
      "cell_type": "code",
      "source": [
        "def get_bahan_from_id(id):\n",
        "\treturn bahan_data[bahan_data.id == id][\"bahan\"].values[0]\n",
        "\n",
        "def get_id_from_bahan(bahan):\n",
        "\treturn bahan_data[bahan_data.bahan == bahan][\"id\"].values[0]"
      ],
      "metadata": {
        "id": "0d8LWxs0or5P"
      },
      "execution_count": null,
      "outputs": []
    },
    {
      "cell_type": "code",
      "source": [
        "features= ['bahan','makanan']"
      ],
      "metadata": {
        "id": "L081A5XRrW3e"
      },
      "execution_count": null,
      "outputs": []
    },
    {
      "cell_type": "code",
      "source": [
        "def combine_features(row):\n",
        "  try:\n",
        "    return row['bahan']+' '+row['makanan']\n",
        "  except:\n",
        "    return \"error:\", row"
      ],
      "metadata": {
        "id": "H1l9aoUfrbeT"
      },
      "execution_count": null,
      "outputs": []
    },
    {
      "cell_type": "code",
      "source": [
        "for feature in features:\n",
        "  bahan_data[feature]= bahan_data[feature].fillna('')"
      ],
      "metadata": {
        "id": "uRQcqAqF1ncq"
      },
      "execution_count": null,
      "outputs": []
    },
    {
      "cell_type": "code",
      "source": [
        "bahan_data['combined_features']= bahan_data.apply(combine_features, axis=1)"
      ],
      "metadata": {
        "id": "bJTCPcnmuMBA"
      },
      "execution_count": null,
      "outputs": []
    },
    {
      "cell_type": "code",
      "source": [
        "print(bahan_data.loc[0,'combined_features'])"
      ],
      "metadata": {
        "colab": {
          "base_uri": "https://localhost:8080/"
        },
        "id": "TRFxlS4wuZR6",
        "outputId": "c997c0e1-ce06-44d6-8d39-52bfc40e2dd8"
      },
      "execution_count": null,
      "outputs": [
        {
          "output_type": "stream",
          "name": "stdout",
          "text": [
            "bawang merah soto betawi|nasi goreng|bakso|sop|sayur lodeh|rendang|ayam rica rica|tumis|seblak|tongseng ayam|mie ayam|tahu gejrot|capcay|\n"
          ]
        }
      ]
    },
    {
      "cell_type": "code",
      "source": [
        "cv= CountVectorizer()\n",
        "count_matrix= cv.fit_transform(bahan_data[\"combined_features\"])\n",
        "cosine_sim = cosine_similarity(count_matrix)"
      ],
      "metadata": {
        "id": "DlSJp2bBv45x"
      },
      "execution_count": null,
      "outputs": []
    },
    {
      "cell_type": "code",
      "source": [
        "def get_recomendation(bahan):\n",
        "  bahan_id= get_id_from_bahan(bahan.lower())\n",
        "  bahan_mirip= list(enumerate(cosine_sim[bahan_id]))\n",
        "\n",
        "  sorted_similar_bahan = sorted(bahan_mirip,key=lambda x:x[1],reverse=True)[1:]\n",
        "\n",
        "  i=0\n",
        "  print(\"top 3 bahan yang mirip \"+bahan+\" adalah:\\n\")\n",
        "  for element in sorted_similar_bahan:\n",
        "    print(get_bahan_from_id(element[0]))\n",
        "    i=i+1\n",
        "    if i==3:\n",
        "      break"
      ],
      "metadata": {
        "id": "PpclfJLN8VgI"
      },
      "execution_count": null,
      "outputs": []
    },
    {
      "cell_type": "code",
      "source": [
        "get_recomendation('selada')"
      ],
      "metadata": {
        "id": "0hWlE5Lb9otK",
        "colab": {
          "base_uri": "https://localhost:8080/"
        },
        "outputId": "e18ba462-88d6-4a1e-c207-0ba8a6067d83"
      },
      "execution_count": null,
      "outputs": [
        {
          "output_type": "stream",
          "name": "stdout",
          "text": [
            "top 3 bahan yang mirip selada adalah:\n",
            "\n",
            "daun bawang\n",
            "bawang putih\n",
            "timun\n"
          ]
        }
      ]
    },
    {
      "cell_type": "code",
      "source": [
        "get_recomendation('tomat')"
      ],
      "metadata": {
        "colab": {
          "base_uri": "https://localhost:8080/"
        },
        "id": "kHFtNM_vWqao",
        "outputId": "feaa167b-c5da-402b-90c2-370ba4ba5179"
      },
      "execution_count": null,
      "outputs": [
        {
          "output_type": "stream",
          "name": "stdout",
          "text": [
            "top 3 bahan yang mirip tomat adalah:\n",
            "\n",
            "kacang tanah\n",
            "kunyit\n",
            "sawi\n"
          ]
        }
      ]
    },
    {
      "cell_type": "code",
      "source": [
        "get_recomendation('kacang tanah')"
      ],
      "metadata": {
        "colab": {
          "base_uri": "https://localhost:8080/"
        },
        "id": "rucHXjTG8qQP",
        "outputId": "fc10513c-1be2-4cfc-c5d9-8bc8f19d0beb"
      },
      "execution_count": null,
      "outputs": [
        {
          "output_type": "stream",
          "name": "stdout",
          "text": [
            "top 3 bahan yang mirip kacang tanah adalah:\n",
            "\n",
            "tomat\n",
            "kunyit\n",
            "daun bawang\n"
          ]
        }
      ]
    },
    {
      "cell_type": "code",
      "source": [
        "get_recomendation('jahe')"
      ],
      "metadata": {
        "colab": {
          "base_uri": "https://localhost:8080/"
        },
        "id": "kl-7HV-k8s5u",
        "outputId": "9adc3a03-08f8-498d-8328-39b474f8090c"
      },
      "execution_count": null,
      "outputs": [
        {
          "output_type": "stream",
          "name": "stdout",
          "text": [
            "top 3 bahan yang mirip jahe adalah:\n",
            "\n",
            "bawang merah\n",
            "bawang putih\n",
            "tomat\n"
          ]
        }
      ]
    }
  ]
}